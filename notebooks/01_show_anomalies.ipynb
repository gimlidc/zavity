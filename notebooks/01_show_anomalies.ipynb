{
 "cells": [
  {
   "metadata": {
    "ExecuteTime": {
     "end_time": "2024-07-25T13:03:23.805418Z",
     "start_time": "2024-07-25T13:03:23.800904Z"
    }
   },
   "cell_type": "code",
   "source": [
    "import os\n",
    "import cv2\n",
    "import pandas as pd\n",
    "import numpy as np\n",
    "from matplotlib import pyplot as plt\n",
    "from tqdm.auto import tqdm"
   ],
   "id": "fbaa0e65f15b626f",
   "execution_count": 689,
   "outputs": []
  },
  {
   "metadata": {
    "ExecuteTime": {
     "end_time": "2024-07-25T13:03:23.848916Z",
     "start_time": "2024-07-25T13:03:23.843604Z"
    }
   },
   "cell_type": "code",
   "source": [
    "SRC = '/Users/fathe/OneDrive/Documents/UK/MFF/Thesis/input'\n",
    "videos = [file for file in os.listdir(SRC) if file.endswith(\"MP4\") and file.startswith(\"GX\")]\n",
    "SCALE = 4"
   ],
   "id": "4d498df6c285fad5",
   "execution_count": 690,
   "outputs": []
  },
  {
   "metadata": {
    "ExecuteTime": {
     "end_time": "2024-07-25T13:03:23.878971Z",
     "start_time": "2024-07-25T13:03:23.873598Z"
    }
   },
   "cell_type": "code",
   "source": "videos",
   "id": "f92d237f2a99db61",
   "execution_count": 691,
   "outputs": []
  },
  {
   "metadata": {
    "ExecuteTime": {
     "end_time": "2024-07-25T13:03:23.888627Z",
     "start_time": "2024-07-25T13:03:23.879977Z"
    }
   },
   "cell_type": "code",
   "source": "video = videos[-2]",
   "id": "88a04c53922380ae",
   "execution_count": 692,
   "outputs": []
  },
  {
   "metadata": {
    "ExecuteTime": {
     "end_time": "2024-07-25T13:03:23.936682Z",
     "start_time": "2024-07-25T13:03:23.890638Z"
    }
   },
   "cell_type": "code",
   "source": "vidcap = cv2.VideoCapture(os.path.join(SRC, video))",
   "id": "aaea7843599f52fe",
   "execution_count": 693,
   "outputs": []
  },
  {
   "metadata": {
    "ExecuteTime": {
     "end_time": "2024-07-25T13:03:23.944263Z",
     "start_time": "2024-07-25T13:03:23.938686Z"
    }
   },
   "cell_type": "code",
   "source": [
    "intervals_vertical = np.load(os.path.join(SRC, video).replace(\".MP4\", \"-intervals_vertical.npy\"))\n",
    "intervals_horizontal = np.load(os.path.join(SRC, video).replace(\".MP4\", \"-intervals_horizontal.npy\"))"
   ],
   "id": "719f5e47c35a852a",
   "execution_count": 694,
   "outputs": []
  },
  {
   "metadata": {
    "ExecuteTime": {
     "end_time": "2024-07-25T13:03:23.954717Z",
     "start_time": "2024-07-25T13:03:23.945288Z"
    }
   },
   "cell_type": "code",
   "source": "interval = intervals_horizontal[1]",
   "id": "10496de74e74fb95",
   "execution_count": 695,
   "outputs": []
  },
  {
   "metadata": {
    "ExecuteTime": {
     "end_time": "2024-07-25T13:03:23.966695Z",
     "start_time": "2024-07-25T13:03:23.955725Z"
    }
   },
   "cell_type": "code",
   "source": "interval",
   "id": "38b6e1075cdd015c",
   "execution_count": 696,
   "outputs": []
  },
  {
   "metadata": {
    "ExecuteTime": {
     "end_time": "2024-07-25T13:03:23.976569Z",
     "start_time": "2024-07-25T13:03:23.969002Z"
    }
   },
   "cell_type": "code",
   "source": [
    "start = 10070\n",
    "stop = 10072"
   ],
   "id": "b8963dcbc893da3",
   "execution_count": 697,
   "outputs": []
  },
  {
   "metadata": {
    "ExecuteTime": {
     "end_time": "2024-07-25T13:03:23.987232Z",
     "start_time": "2024-07-25T13:03:23.978577Z"
    }
   },
   "cell_type": "code",
   "source": "img_range = range(stop-start)",
   "id": "b65599f92cc75860",
   "execution_count": 698,
   "outputs": []
  },
  {
   "metadata": {
    "ExecuteTime": {
     "end_time": "2024-07-25T13:03:24.000913Z",
     "start_time": "2024-07-25T13:03:23.989250Z"
    }
   },
   "cell_type": "code",
   "source": "len(img_range)",
   "id": "1ec19eb5b1e028e8",
   "execution_count": 699,
   "outputs": []
  },
  {
   "metadata": {
    "ExecuteTime": {
     "end_time": "2024-07-25T13:03:24.010593Z",
     "start_time": "2024-07-25T13:03:24.003923Z"
    }
   },
   "cell_type": "code",
   "source": "stop-start",
   "id": "7f67c3092874c9d2",
   "execution_count": 700,
   "outputs": []
  },
  {
   "metadata": {
    "ExecuteTime": {
     "end_time": "2024-07-25T13:03:24.020856Z",
     "start_time": "2024-07-25T13:03:24.011599Z"
    }
   },
   "cell_type": "code",
   "source": [
    "def is_blurry(frame, threshold=100):\n",
    "    gray = cv2.cvtColor(frame, cv2.COLOR_BGR2GRAY)\n",
    "    laplacian_var = cv2.Laplacian(gray, cv2.CV_64F).var()\n",
    "    return laplacian_var < threshold"
   ],
   "id": "88f1c7c8e2a0fc6b",
   "execution_count": 701,
   "outputs": []
  },
  {
   "metadata": {
    "ExecuteTime": {
     "end_time": "2024-07-25T13:03:24.031376Z",
     "start_time": "2024-07-25T13:03:24.022878Z"
    }
   },
   "cell_type": "code",
   "source": [
    "feature_params = dict(maxCorners=100,\n",
    "                          qualityLevel=0.3,\n",
    "                          minDistance=7,\n",
    "                          blockSize=7)\n",
    "lk_params = dict(winSize=(15, 15),\n",
    "                 maxLevel=2,\n",
    "                 criteria=(cv2.TERM_CRITERIA_EPS | cv2.TERM_CRITERIA_COUNT, 10, 0.03))\n",
    "                 # minEigThreshold = 0.045)\n",
    "                 \n",
    "err_threshold = 8"
   ],
   "id": "e6989a7719f5fa5e",
   "execution_count": 702,
   "outputs": []
  },
  {
   "cell_type": "code",
   "id": "initial_id",
   "metadata": {
    "collapsed": true,
    "ExecuteTime": {
     "end_time": "2024-07-25T13:03:26.370435Z",
     "start_time": "2024-07-25T13:03:24.032229Z"
    }
   },
   "source": [
    "plt.figure(figsize=(16,12*len(img_range)))\n",
    "# vidcap.set(cv2.CAP_PROP_POS_FRAMES, start)\n",
    "# pbar = tqdm(total=stop-start)\n",
    "# blurs = []\n",
    "for i in img_range:\n",
    "    vidcap.set(cv2.CAP_PROP_POS_FRAMES, start+i)\n",
    "    _, frame0 = vidcap.read()\n",
    "    _, frame1 = vidcap.read()\n",
    "    frame0 = cv2.cvtColor(cv2.resize(frame0, (int(vidcap.get(cv2.CAP_PROP_FRAME_WIDTH)/SCALE), int(vidcap.get(cv2.CAP_PROP_FRAME_HEIGHT)/SCALE))), cv2.COLOR_BGR2GRAY)\n",
    "    frame1 = cv2.cvtColor(cv2.resize(frame1, (int(vidcap.get(cv2.CAP_PROP_FRAME_WIDTH)/SCALE), int(vidcap.get(cv2.CAP_PROP_FRAME_HEIGHT)/SCALE))), cv2.COLOR_BGR2GRAY)\n",
    "    \n",
    "    p0 = cv2.goodFeaturesToTrack(frame0, **feature_params)\n",
    "    p1, st, err = cv2.calcOpticalFlowPyrLK(frame0, frame1, p0, None, **lk_params)\n",
    "    # print(err)\n",
    "    # st = (st == 1) & (err < err_threshold)\n",
    "    p1 = p1[st == 1]\n",
    "    p0 = p0[st == 1]\n",
    "    print(cv2.Laplacian(frame0, cv2.CV_64F).var())\n",
    "    print(start+i, np.mean(p1-p0, axis=0))\n",
    "    print(cv2.Laplacian(frame1, cv2.CV_64F).var())\n",
    "\n",
    "    for p in p0:\n",
    "        x, y = p\n",
    "        cv2.circle(frame0, (int(x), int(y)), int(20/SCALE), (0, 255, 0), int(3/SCALE))\n",
    "\n",
    "    for p in p1:\n",
    "        x, y = p\n",
    "        cv2.circle(frame1, (int(x), int(y)), int(20/SCALE), (0, 255, 0), int(3/SCALE))\n",
    "        \n",
    "    # blurs.append(cv2.Laplacian(frame0, cv2.CV_64F).var())\n",
    "    # pbar.update(1)\n",
    "    \n",
    "\n",
    "    ax = plt.subplot((stop-start),2,2*i+1)\n",
    "    ax.imshow(frame0, cmap='gray')\n",
    "    ax.set_title(i+start)\n",
    "\n",
    "    ax = plt.subplot((stop-start),2,2*i+2)\n",
    "    ax.imshow(frame1, cmap='gray')\n",
    "    ax.set_title(i+start+1)\n",
    "plt.show()"
   ],
   "execution_count": 703,
   "outputs": []
  },
  {
   "metadata": {
    "ExecuteTime": {
     "end_time": "2024-07-25T13:03:26.375368Z",
     "start_time": "2024-07-25T13:03:26.372451Z"
    }
   },
   "cell_type": "code",
   "source": "# np.mean(blurs), np.std(blurs)",
   "id": "8ea9f22bbf0d0161",
   "execution_count": 704,
   "outputs": []
  },
  {
   "metadata": {
    "ExecuteTime": {
     "end_time": "2024-07-25T13:03:26.388368Z",
     "start_time": "2024-07-25T13:03:26.378375Z"
    }
   },
   "cell_type": "code",
   "source": [
    "# plt.figure(figsize=(15,5))\n",
    "# plt.plot(img_range, blurs)\n",
    "# plt.show()"
   ],
   "id": "13f0bff78cb8bbec",
   "execution_count": 705,
   "outputs": []
  },
  {
   "metadata": {
    "ExecuteTime": {
     "end_time": "2024-07-25T13:03:26.392018Z",
     "start_time": "2024-07-25T13:03:26.389380Z"
    }
   },
   "cell_type": "code",
   "source": "",
   "id": "d7e7da1322d2234c",
   "execution_count": 705,
   "outputs": []
  }
 ],
 "metadata": {
  "kernelspec": {
   "display_name": "Python 3",
   "language": "python",
   "name": "python3"
  },
  "language_info": {
   "codemirror_mode": {
    "name": "ipython",
    "version": 2
   },
   "file_extension": ".py",
   "mimetype": "text/x-python",
   "name": "python",
   "nbconvert_exporter": "python",
   "pygments_lexer": "ipython2",
   "version": "2.7.6"
  }
 },
 "nbformat": 4,
 "nbformat_minor": 5
}
