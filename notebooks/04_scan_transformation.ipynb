{
 "cells": [
  {
   "cell_type": "code",
   "id": "2e9ecb582f9489f9",
   "metadata": {
    "collapsed": true,
    "ExecuteTime": {
     "end_time": "2024-08-14T05:54:38.216372Z",
     "start_time": "2024-08-14T05:54:37.109884Z"
    }
   },
   "source": [
    "import os\n",
    "from scipy.optimize import least_squares, curve_fit\n",
    "from stl import mesh\n",
    "import math\n",
    "import numpy as np\n",
    "from matplotlib import pyplot, pyplot as plt\n",
    "from mpl_toolkits import mplot3d\n",
    "from tqdm.auto import tqdm"
   ],
   "execution_count": 1,
   "outputs": []
  },
  {
   "metadata": {
    "ExecuteTime": {
     "end_time": "2024-08-14T07:28:56.759472Z",
     "start_time": "2024-08-14T07:28:56.719439Z"
    }
   },
   "cell_type": "code",
   "source": [
    "def get3DDistance(point1, point2):\n",
    "    return math.sqrt((point1[0] - point2[0])**2 + (point1[1] - point2[1])**2 + (point1[2] - point2[2])**2)\n",
    "\n",
    "def get2DDistance(point1, point2):\n",
    "    return math.sqrt((point1[0] - point2[0])**2 + (point1[1] - point2[1])**2)\n",
    "\n",
    "def residuals(params, points):\n",
    "    a, b, R = params\n",
    "    return np.sqrt((points[:, 0] - a)**2 + (points[:, 1] - b)**2) - R\n",
    "\n",
    "def line(x, A, B):\n",
    "    return A * x + B\n",
    "\n",
    "def sinusoid(x, A, B, C, D):\n",
    "    return A * np.sin(B * (x - C)) + D\n",
    "\n",
    "def rotated_sinusoid(xy, A, B, C, D, theta):\n",
    "    x, y = xy\n",
    "    # Rotate the coordinates\n",
    "    x_prime = x * np.cos(theta) + y * np.sin(theta)\n",
    "    y_prime = -x * np.sin(theta) + y * np.cos(theta)\n",
    "    \n",
    "    # Apply the sinusoidal function in the rotated frame\n",
    "    return A * np.sin(B * x_prime + C) + D\n",
    "\n",
    "def tangent_curve(x, A, B, C, D):\n",
    "    return A * np.tan(B * (x - C)) + D\n",
    "\n",
    "def getView(model, axis):\n",
    "    view = []\n",
    "    for triangle in model:\n",
    "        for point in triangle:\n",
    "            if axis == 2:\n",
    "                view.append([point[0], point[1]])\n",
    "            elif axis == 1:\n",
    "                view.append([point[0], point[2]])\n",
    "            elif axis == 0:\n",
    "                view.append([point[1], point[2]])\n",
    "    return np.array(view)\n",
    "\n",
    "def getCircleApprox(points):\n",
    "    # Initial guess for the circle's center (a, b) and radius R\n",
    "    x_m = np.mean(points[:, 0])\n",
    "    y_m = np.mean(points[:, 1])\n",
    "    R_m = np.mean(np.sqrt((points[:, 0] - x_m)**2 + (points[:, 1] - y_m)**2))\n",
    "    initial_guess = [x_m, y_m, R_m]\n",
    "    \n",
    "    # Perform the least squares optimization\n",
    "    result = least_squares(residuals, initial_guess, args=(points,))\n",
    "    \n",
    "    a_opt, b_opt, R_opt = result.x\n",
    "    \n",
    "    return a_opt, b_opt, R_opt\n",
    "\n",
    "def getSinusoidApprox(points, initial_guess):\n",
    "    # Separate the points into x and y coordinates\n",
    "    x_data = points[:, 0]\n",
    "    y_data = points[:, 1]\n",
    "    \n",
    "    # initial_guess = [0.7, 1/20, 0, -11]\n",
    "    \n",
    "    # Perform the curve fitting\n",
    "    params, params_covariance = curve_fit(sinusoid, x_data, y_data, p0=initial_guess)\n",
    "    \n",
    "    # Extract the optimal parameters\n",
    "    A_opt, B_opt, C_opt, D_opt = params\n",
    "    \n",
    "    return A_opt, B_opt, C_opt, D_opt\n",
    "\n",
    "def getTangentApprox(points, initial_guess):\n",
    "    # Separate the points into x and y coordinates\n",
    "    x_data = points[:, 1]\n",
    "    y_data = points[:, 0]\n",
    "    \n",
    "    # initial_guess = [0.7, 1/20, 0, -11]\n",
    "    \n",
    "    # Perform the curve fitting\n",
    "    params, params_covariance = curve_fit(tangent_curve, x_data, y_data, p0=initial_guess)\n",
    "    \n",
    "    # Extract the optimal parameters\n",
    "    A_opt, B_opt, C_opt, D_opt = params\n",
    "    \n",
    "    return A_opt, B_opt, C_opt, D_opt\n",
    "\n",
    "def getRotatedSinusoidApprox(points, initial_guess):\n",
    "    # Separate the points into x and y coordinates\n",
    "    x_data = points[:, 0]\n",
    "    y_data = points[:, 1]\n",
    "    \n",
    "    # initial_guess = [0.7, 1/20, 0, -11]\n",
    "    \n",
    "    # Perform the curve fitting\n",
    "    params, params_covariance = curve_fit(rotated_sinusoid, (x_data, y_data), y_data, p0=initial_guess, maxfev=50000)\n",
    "    \n",
    "    # Extract the optimal parameters\n",
    "    A_opt, B_opt, C_opt, D_opt, theta_opt = params\n",
    "    \n",
    "    return A_opt, B_opt, C_opt, D_opt, theta_opt\n",
    "\n",
    "def getLineApprox(points, initial_guess):\n",
    "    x_data = points[:, 0]\n",
    "    y_data = points[:, 1]\n",
    "    params, params_covariance = curve_fit(line, x_data, y_data, p0=initial_guess)\n",
    "    A, B = params\n",
    "    return A, B\n",
    "\n",
    "def getAngle(center, beginning, coord):\n",
    "    a = get2DDistance(center, beginning)\n",
    "    b = get2DDistance(center, coord)\n",
    "    c = get2DDistance(beginning, coord)\n",
    "    val = (a*a + b*b - c*c) / (2*a*b)\n",
    "    angle = 0\n",
    "    if val < -1:\n",
    "        print(val)\n",
    "        val = val+2\n",
    "        angle = math.pi\n",
    "    if val > 1:\n",
    "        print(val)\n",
    "        val = val-2\n",
    "        angle = -math.pi\n",
    "    angle += math.acos(val)\n",
    "    if coord[0] > beginning[0]:\n",
    "        angle = 2*math.pi - angle\n",
    "    return angle\n",
    "\n",
    "def transformCoordinate(coord, center, beginning, radius):\n",
    "    # print(coord, center, beginning, radius)\n",
    "    angle = getAngle(center, beginning, coord)\n",
    "    if angle is not None:\n",
    "        return [angle * radius, radius - get2DDistance(center, coord), coord[2]]\n",
    "    else:\n",
    "        return None\n",
    "\n",
    "def transform3DModel(model):\n",
    "    model_layer = getModelLayer(model, 2, 2, 5)\n",
    "    # print(model_layer)\n",
    "    view = getView(model_layer, 2)\n",
    "    # print(view)\n",
    "    x, y, radius = getCircleApprox(view)\n",
    "    center = [x, y, 0]\n",
    "    print(center, radius)\n",
    "    # center = getCenter(model)\n",
    "    # centers = getCenters(model)\n",
    "    # center = centers[np.where(centers[:, 2] == point[2])][0]\n",
    "    # radius = getRadius(model)\n",
    "    pbar = tqdm(total=model.data.shape[0], desc=f\"Transforming 3D model\")\n",
    "    data_transformed = np.zeros(model.data.shape[0], dtype=mesh.Mesh.dtype)\n",
    "    for i, triangle in enumerate(model.data):\n",
    "        vectors = []\n",
    "        for point in triangle[1]:\n",
    "            vectors.append(transformCoordinate(point, center, getBeginning(radius, center), radius))\n",
    "        if None not in vectors and np.std(vectors, axis=0)[0] < 10:\n",
    "            data_transformed['vectors'][i] = np.array(vectors)\n",
    "        pbar.update(1)\n",
    "    \n",
    "    pbar.close()\n",
    "    return mesh.Mesh(data_transformed)\n",
    "    \n",
    "def removeSinusoidErrorY(model, initial):\n",
    "    model_layer = getModelLayer(model, 2, 2, 5)\n",
    "    view = getView(model_layer, 2)\n",
    "    A, B = getLineApprox(view, [-0.001, 0])\n",
    "    print(A, B)\n",
    "    for i, coord in enumerate(view):\n",
    "        view[i, 1] -= line(view[i, 0], A, B)\n",
    "    \n",
    "    A, B, C, D = getSinusoidApprox(view, initial)\n",
    "    print(A,B,C,D)\n",
    "    \n",
    "    pbar = tqdm(total=model.data.shape[0], desc=f\"Removing Sinusoid Error\")\n",
    "    data_transformed = np.zeros(model.data.shape[0], dtype=mesh.Mesh.dtype)\n",
    "    for i, triangle in enumerate(model.data):\n",
    "        vectors = []\n",
    "        for point in triangle[1]:\n",
    "            vectors.append([point[0], point[1]-sinusoid(point[0], A, B, C, D), point[2]])\n",
    "        data_transformed['vectors'][i] = np.array(vectors)\n",
    "        pbar.update(1)\n",
    "    \n",
    "    pbar.close()\n",
    "    return mesh.Mesh(data_transformed)\n",
    "\n",
    "def removeSinusoidErrorZ(model, initial):\n",
    "    model_layer = getModelLayer(unrolled_scan, 2, 14, 22)\n",
    "    data = np.zeros(model_layer.shape[0], dtype=mesh.Mesh.dtype)\n",
    "    data['vectors'] = model_layer\n",
    "    model_layer = getModelLayer(mesh.Mesh(data), 1, 0, 2)\n",
    "    view = getView(model_layer, 1)\n",
    "    new_view = []\n",
    "    for coord in view:\n",
    "        if (coord[0] <= 125 and coord[1] < 20) or (coord[0] > 125 and coord[1] > 17):\n",
    "            new_view.append(coord)\n",
    "    view = np.array(new_view)\n",
    "    A, B = getLineApprox(view, [0.001, 14])\n",
    "    print(A, B)\n",
    "    for i, coord in enumerate(view):\n",
    "        view[i, 1] -= line(view[i, 0], A, B)\n",
    "    view = np.round(view, 1)\n",
    "    unique_x = np.unique(view[:, 0])\n",
    "    avg_y_for_x = np.array([\n",
    "        [x, np.mean(view[view[:, 0] == x, 1])]\n",
    "        for x in unique_x\n",
    "    ])\n",
    "    A, B, C, D = getSinusoidApprox(avg_y_for_x, initial)\n",
    "    print(A,B,C,D)\n",
    "    \n",
    "    pbar = tqdm(total=model.data.shape[0], desc=f\"Removing Sinusoid Error\")\n",
    "    data_transformed = np.zeros(model.data.shape[0], dtype=mesh.Mesh.dtype)\n",
    "    for i, triangle in enumerate(model.data):\n",
    "        vectors = []\n",
    "        for point in triangle[1]:\n",
    "            vectors.append([point[0], point[1], point[2]-sinusoid(point[0], A, B, C, D)])\n",
    "        data_transformed['vectors'][i] = np.array(vectors)\n",
    "        pbar.update(1)\n",
    "    \n",
    "    pbar.close()\n",
    "    return mesh.Mesh(data_transformed)\n",
    "\n",
    "def visualizeModel(model):\n",
    "    # Create a new plot\n",
    "    figure = pyplot.figure(figsize=(15, 15))\n",
    "    axes = figure.add_subplot(projection='3d')\n",
    "    axes.set_xlabel('X')\n",
    "    axes.set_ylabel('Y')\n",
    "    axes.set_zlabel('Z')\n",
    "    \n",
    "    # Render the cube\n",
    "    axes.add_collection3d(mplot3d.art3d.Poly3DCollection(model.vectors))\n",
    "    \n",
    "    # Auto scale to the mesh size\n",
    "    scale = model.points.flatten()\n",
    "    axes.auto_scale_xyz(scale, scale, scale)\n",
    "    \n",
    "    # Show the plot to the screen\n",
    "    pyplot.show()\n",
    "    \n",
    "def getModelLayer(model, axis, from_, to):\n",
    "    vertices = model.vectors  # shape (n, 3, 3) where n is the number of triangles\n",
    "    centroids = np.mean(vertices, axis=1)  # shape (n, 3)\n",
    "    mask = (centroids[:, axis] >= from_) & (centroids[:, axis] <= to)\n",
    "    return vertices[mask]\n",
    "    \n",
    "    \n",
    "def visualizeModelLayer(model, axis, from_, to):\n",
    "    \n",
    "    vertices = model.vectors  # shape (n, 3, 3) where n is the number of triangles\n",
    "    centroids = np.mean(vertices, axis=1)  # shape (n, 3)\n",
    "    mask = (centroids[:, axis] >= from_) & (centroids[:, axis] <= to)\n",
    "    filtered_vertices = vertices[mask]\n",
    "    \n",
    "    \n",
    "    # Create a new plot\n",
    "    figure = pyplot.figure(figsize=(15, 15))\n",
    "    axes = figure.add_subplot(projection='3d')\n",
    "    axes.set_xlabel('X')\n",
    "    axes.set_ylabel('Y')\n",
    "    axes.set_zlabel('Z')\n",
    "    \n",
    "    # Render the cube\n",
    "    axes.add_collection3d(mplot3d.art3d.Poly3DCollection(filtered_vertices))\n",
    "    \n",
    "    # Auto scale to the mesh size\n",
    "    scale = model.points.flatten()\n",
    "    axes.auto_scale_xyz(scale, scale, scale)\n",
    "    \n",
    "    # Show the plot to the screen\n",
    "    pyplot.show()\n",
    "\n",
    "def getCenter(model):\n",
    "    vertices = model.vectors  \n",
    "    \n",
    "    centroids = np.mean(vertices, axis=1)  \n",
    "    \n",
    "    cross_products = np.cross(vertices[:, 1] - vertices[:, 0], vertices[:, 2] - vertices[:, 0])\n",
    "    areas = np.linalg.norm(cross_products, axis=1) / 2  \n",
    "    \n",
    "    weighted_sum = np.sum(centroids * areas[:, np.newaxis], axis=0)  \n",
    "    \n",
    "    total_area = np.sum(areas)\n",
    "    \n",
    "    center_of_mass = weighted_sum / total_area\n",
    "    \n",
    "    return center_of_mass\n",
    "\n",
    "def getCenterAlt(model, axis, from_, to):\n",
    "    vertices = model.vectors  # shape (n, 3, 3) where n is the number of triangles\n",
    "    centroids = np.mean(vertices, axis=1)  # shape (n, 3)\n",
    "    mask = (centroids[:, axis] >= from_) & (centroids[:, axis] <= to)\n",
    "    filtered_centroids = centroids[mask]\n",
    "    filtered_vertices = vertices[mask]\n",
    "    \n",
    "    cross_products = np.cross(filtered_vertices[:, 1] - filtered_vertices[:, 0], filtered_vertices[:, 2] - filtered_vertices[:, 0])\n",
    "    areas = np.linalg.norm(cross_products, axis=1) / 2  # shape (n,)\n",
    "    \n",
    "    # Calculate the weighted sum of centroids\n",
    "    weighted_sum = np.sum(filtered_centroids * areas[:, np.newaxis], axis=0)  # shape (3,)\n",
    "    \n",
    "    # Calculate the total area\n",
    "    total_area = np.sum(areas)\n",
    "    \n",
    "    # Compute the center of mass\n",
    "    center_of_mass = weighted_sum / total_area\n",
    "    \n",
    "    return center_of_mass\n",
    "\n",
    "def getCenters(model):\n",
    "    # Extract the vertices and their z-coordinates\n",
    "    vertices = model.vectors.reshape(-1, 3)\n",
    "    z_coords = vertices[:, 2]\n",
    "    \n",
    "    # Identify the unique z-coordinates and their indices\n",
    "    unique_z_coords, inverse_indices = np.unique(z_coords, return_inverse=True)\n",
    "    \n",
    "    # Initialize arrays to store sums and counts for each layer\n",
    "    sums_x = np.zeros(len(unique_z_coords))\n",
    "    sums_y = np.zeros(len(unique_z_coords))\n",
    "    counts = np.zeros(len(unique_z_coords))\n",
    "    \n",
    "    # Sum the x and y coordinates and count the number of points in each layer\n",
    "    np.add.at(sums_x, inverse_indices, vertices[:, 0])\n",
    "    np.add.at(sums_y, inverse_indices, vertices[:, 1])\n",
    "    np.add.at(counts, inverse_indices, 1)\n",
    "    \n",
    "    # Calculate the center of mass for each layer\n",
    "    com_x = sums_x / counts\n",
    "    com_y = sums_y / counts\n",
    "    com_z = unique_z_coords\n",
    "    \n",
    "    # Combine the results into a single array\n",
    "    centers_of_mass = np.vstack((com_x, com_y, com_z)).T\n",
    "    \n",
    "    return centers_of_mass\n",
    "\n",
    "def getBeginning(radius, center):\n",
    "    return [center[0], center[1] + radius, center[2]]\n",
    "    \n",
    "def getYMax(model):\n",
    "    loc = np.argmax(model.vectors[:, :, 1])\n",
    "    return model.vectors[loc//3][loc%3]\n",
    "\n",
    "def getYMin(model):\n",
    "    loc = np.argmin(model.vectors[:, :, 1])\n",
    "    return model.vectors[loc//3][loc%3]\n",
    "\n",
    "def getXMax(model):\n",
    "    loc = np.argmax(model.vectors[:, :, 0])\n",
    "    return model.vectors[loc//3][loc%3]\n",
    "\n",
    "def getXMin(model):\n",
    "    loc = np.argmin(model.vectors[:, :, 0])\n",
    "    return model.vectors[loc//3][loc%3]\n",
    "\n",
    "def getZMax(model):\n",
    "    loc = np.argmax(model.vectors[:, :, 2])\n",
    "    return model.vectors[loc//3][loc%3]\n",
    "\n",
    "def getZMin(model):\n",
    "    loc = np.argmin(model.vectors[:, :, 2])\n",
    "    return model.vectors[loc//3][loc%3]\n",
    "\n",
    "def getRadius(model):\n",
    "    vertices = model.vectors  # shape (n, 3, 3) where n is the number of triangles\n",
    "    # centroids = np.mean(vertices, axis=1)  # shape (n, 3)\n",
    "    # mask = (centroids[:, 2] >= 15) & (centroids[:, 2] <= 70)\n",
    "    # vertices = vertices[mask]\n",
    "    loc_y_max = np.argmax(vertices[:, :, 1])\n",
    "    loc_x_max = np.argmax(vertices[:, :, 0])\n",
    "    loc_x_min = np.argmin(vertices[:, :, 0])\n",
    "    loc_y_min = np.argmin(vertices[:, :, 1])\n",
    "    # print(loc_x_max, loc_x_min, loc_y_max, loc_y_min)\n",
    "    \n",
    "    return (get2DDistance(model.vectors[loc_y_min//3][loc_y_min%3], model.vectors[loc_y_max//3][loc_y_max%3]) + get2DDistance(model.vectors[loc_x_min//3][loc_x_min%3], model.vectors[loc_x_max//3][loc_x_max%3]))/4"
   ],
   "id": "initial_id",
   "execution_count": 263,
   "outputs": []
  },
  {
   "metadata": {
    "ExecuteTime": {
     "end_time": "2024-08-01T08:17:45.622886Z",
     "start_time": "2024-08-01T08:17:45.514872Z"
    }
   },
   "cell_type": "code",
   "source": [
    "# Create 3 faces of a cube\n",
    "data = np.zeros(6, dtype=mesh.Mesh.dtype)\n",
    "\n",
    "# Top of the cube\n",
    "data['vectors'][0] = np.array([[0, 1, 1],\n",
    "                                  [1, 0, 1],\n",
    "                                  [0, 0, 1]])\n",
    "data['vectors'][1] = np.array([[1, 0, 1],\n",
    "                                  [0, 1, 1],\n",
    "                                  [1, 1, 1]])\n",
    "# Front face\n",
    "data['vectors'][2] = np.array([[1, 0, 0],\n",
    "                                  [1, 0, 1],\n",
    "                                  [1, 1, 0]])\n",
    "data['vectors'][3] = np.array([[1, 1, 1],\n",
    "                                  [1, 0, 1],\n",
    "                                  [1, 1, 0]])\n",
    "# Left face\n",
    "data['vectors'][4] = np.array([[0, 0, 0],\n",
    "                                  [1, 0, 0],\n",
    "                                  [1, 0, 1]])\n",
    "data['vectors'][5] = np.array([[0, 0, 0],\n",
    "                                  [0, 0, 1],\n",
    "                                  [1, 0, 1]])\n",
    "\n",
    "# Since the cube faces are from 0 to 1 we can move it to the middle by\n",
    "# substracting .5\n",
    "data['vectors'] -= .5\n",
    "\n",
    "cube_back = mesh.Mesh(data.copy())\n",
    "cube_front = mesh.Mesh(data.copy())\n",
    "\n",
    "# Rotate 90 degrees over the X axis followed by the Y axis followed by the\n",
    "# X axis\n",
    "cube_back.rotate([0.5, 0.0, 0.0], math.radians(90))\n",
    "cube_back.rotate([0.0, 0.5, 0.0], math.radians(90))\n",
    "cube_back.rotate([0.5, 0.0, 0.0], math.radians(90))\n",
    "\n",
    "cube = mesh.Mesh(np.concatenate([\n",
    "    cube_back.data.copy(),\n",
    "    cube_front.data.copy(),\n",
    "]))\n",
    "\n",
    "# Create a new plot\n",
    "figure = pyplot.figure()\n",
    "axes = figure.add_subplot(projection='3d')\n",
    "axes.set_xlabel('X')\n",
    "\n",
    "# Render the cube\n",
    "axes.add_collection3d(mplot3d.art3d.Poly3DCollection(cube.vectors))\n",
    "\n",
    "# Auto scale to the mesh size\n",
    "scale = cube_back.points.flatten()\n",
    "axes.auto_scale_xyz(scale, scale, scale)\n",
    "\n",
    "# Show the plot to the screen\n",
    "pyplot.show()"
   ],
   "id": "2dbb7bbfc71da9bd",
   "execution_count": 3,
   "outputs": []
  },
  {
   "metadata": {
    "ExecuteTime": {
     "end_time": "2024-08-01T08:17:45.631437Z",
     "start_time": "2024-08-01T08:17:45.623892Z"
    }
   },
   "cell_type": "code",
   "source": "cube.data",
   "id": "57e72e0f89cac35",
   "execution_count": 4,
   "outputs": []
  },
  {
   "metadata": {
    "ExecuteTime": {
     "end_time": "2024-08-01T08:17:45.639077Z",
     "start_time": "2024-08-01T08:17:45.633441Z"
    }
   },
   "cell_type": "code",
   "source": [
    "data_transformed = np.zeros(cube.data.shape[0], dtype=mesh.Mesh.dtype)\n",
    "for i, triangle in enumerate(cube.data):\n",
    "    vectors = []\n",
    "    for point in triangle[1]:\n",
    "        vectors.append(transformCoordinate(point, (0.25,0,point[2]), (0,-0.5, point[2]), 0.5))\n",
    "    data_transformed['vectors'][i] = np.array(vectors)"
   ],
   "id": "d466816a29877e38",
   "execution_count": 5,
   "outputs": []
  },
  {
   "metadata": {
    "ExecuteTime": {
     "end_time": "2024-08-01T08:17:45.650198Z",
     "start_time": "2024-08-01T08:17:45.640082Z"
    }
   },
   "cell_type": "code",
   "source": "data_transformed",
   "id": "38584d13b3e0b61e",
   "execution_count": 6,
   "outputs": []
  },
  {
   "metadata": {
    "ExecuteTime": {
     "end_time": "2024-08-01T08:17:45.751251Z",
     "start_time": "2024-08-01T08:17:45.651211Z"
    }
   },
   "cell_type": "code",
   "source": [
    "cube_transformed = mesh.Mesh(data_transformed)\n",
    "\n",
    "# Optionally render the rotated cube faces\n",
    "\n",
    "\n",
    "# Create a new plot\n",
    "figure = pyplot.figure()\n",
    "axes = figure.add_subplot(projection='3d')\n",
    "axes.set_xlabel('X')\n",
    "\n",
    "# Render the cube\n",
    "axes.add_collection3d(mplot3d.art3d.Poly3DCollection(cube_transformed.vectors))\n",
    "\n",
    "# Auto scale to the mesh size\n",
    "scale = cube_transformed.points.flatten()\n",
    "axes.auto_scale_xyz(scale, scale, scale)\n",
    "\n",
    "# Show the plot to the screen\n",
    "pyplot.show()"
   ],
   "id": "1fcbafdad66dffd1",
   "execution_count": 7,
   "outputs": []
  },
  {
   "metadata": {
    "ExecuteTime": {
     "end_time": "2024-08-05T07:28:00.767173Z",
     "start_time": "2024-08-05T07:27:59.846585Z"
    }
   },
   "cell_type": "code",
   "source": "cylinder = mesh.Mesh.from_file('cylinder.stl')",
   "id": "cc2449f2c5b0a7e4",
   "execution_count": 23,
   "outputs": []
  },
  {
   "metadata": {
    "ExecuteTime": {
     "end_time": "2024-08-05T07:28:03.178452Z",
     "start_time": "2024-08-05T07:28:00.767173Z"
    }
   },
   "cell_type": "code",
   "source": "visualizeModel(cylinder)",
   "id": "701639729a8eb879",
   "execution_count": 24,
   "outputs": []
  },
  {
   "metadata": {
    "ExecuteTime": {
     "end_time": "2024-08-05T13:03:32.640174Z",
     "start_time": "2024-08-05T13:03:32.612686Z"
    }
   },
   "cell_type": "code",
   "source": "getCenter(cylinder)",
   "id": "4034dbbfa87e5234",
   "execution_count": 28,
   "outputs": []
  },
  {
   "metadata": {
    "ExecuteTime": {
     "end_time": "2024-08-01T10:39:33.587815Z",
     "start_time": "2024-08-01T10:39:33.581955Z"
    }
   },
   "cell_type": "code",
   "source": "np.std(cylinder.vectors[0], axis=0)",
   "id": "9134b3080ef947b2",
   "execution_count": 44,
   "outputs": []
  },
  {
   "metadata": {
    "ExecuteTime": {
     "end_time": "2024-08-01T08:17:46.845763Z",
     "start_time": "2024-08-01T08:17:46.839276Z"
    }
   },
   "cell_type": "code",
   "source": "cylinder.vectors[:, :, 1]",
   "id": "ee808f35d304db0d",
   "execution_count": 12,
   "outputs": []
  },
  {
   "metadata": {
    "ExecuteTime": {
     "end_time": "2024-08-01T08:17:46.854367Z",
     "start_time": "2024-08-01T08:17:46.846777Z"
    }
   },
   "cell_type": "code",
   "source": "np.argmax(cylinder.vectors[:, :, 1])",
   "id": "ffa17b45a97e0eb7",
   "execution_count": 13,
   "outputs": []
  },
  {
   "metadata": {
    "ExecuteTime": {
     "end_time": "2024-08-01T08:17:46.862727Z",
     "start_time": "2024-08-01T08:17:46.857377Z"
    }
   },
   "cell_type": "code",
   "source": "cylinder.vectors[:, :, 1][521]",
   "id": "12af1f4bfcc936f4",
   "execution_count": 14,
   "outputs": []
  },
  {
   "metadata": {
    "ExecuteTime": {
     "end_time": "2024-08-01T08:17:46.871978Z",
     "start_time": "2024-08-01T08:17:46.863732Z"
    }
   },
   "cell_type": "code",
   "source": "cylinder.vectors[np.argmax(cylinder.vectors[:, :, 1])//3][np.argmax(cylinder.vectors[:, :, 1])%3]",
   "id": "d1f09a64c3fd8405",
   "execution_count": 15,
   "outputs": []
  },
  {
   "metadata": {
    "ExecuteTime": {
     "end_time": "2024-08-05T07:16:47.147326Z",
     "start_time": "2024-08-05T07:16:47.133396Z"
    }
   },
   "cell_type": "code",
   "source": "getYMax(cylinder), getYMin(cylinder)",
   "id": "86209314523af5a",
   "execution_count": 15,
   "outputs": []
  },
  {
   "metadata": {
    "ExecuteTime": {
     "end_time": "2024-08-05T07:17:04.039480Z",
     "start_time": "2024-08-05T07:17:04.027754Z"
    }
   },
   "cell_type": "code",
   "source": "getXMax(cylinder), getXMin(cylinder)",
   "id": "7090f5d9d357b1ee",
   "execution_count": 16,
   "outputs": []
  },
  {
   "metadata": {
    "ExecuteTime": {
     "end_time": "2024-08-05T07:17:14.086921Z",
     "start_time": "2024-08-05T07:17:14.075654Z"
    }
   },
   "cell_type": "code",
   "source": "getZMax(cylinder), getZMin(cylinder)",
   "id": "2f6a1d371233e8bc",
   "execution_count": 17,
   "outputs": []
  },
  {
   "metadata": {
    "ExecuteTime": {
     "end_time": "2024-08-05T07:28:10.244367Z",
     "start_time": "2024-08-05T07:28:10.229129Z"
    }
   },
   "cell_type": "code",
   "source": "getRadius(cylinder)",
   "id": "84b3b1576a48b95d",
   "execution_count": 25,
   "outputs": []
  },
  {
   "metadata": {
    "ExecuteTime": {
     "end_time": "2024-08-05T13:14:05.916888Z",
     "start_time": "2024-08-05T13:14:01.580843Z"
    }
   },
   "cell_type": "code",
   "source": [
    "unrolled = transform3DModel(cylinder)\n",
    "unrolled.save('unrolled.stl')"
   ],
   "id": "9c61ceaed77a6dc3",
   "execution_count": 30,
   "outputs": []
  },
  {
   "metadata": {
    "ExecuteTime": {
     "end_time": "2024-08-05T13:14:10.099501Z",
     "start_time": "2024-08-05T13:14:07.685231Z"
    }
   },
   "cell_type": "code",
   "source": "visualizeModel(unrolled)",
   "id": "311b2ffadc60ebc7",
   "execution_count": 31,
   "outputs": []
  },
  {
   "metadata": {
    "ExecuteTime": {
     "end_time": "2024-08-14T05:55:37.883116Z",
     "start_time": "2024-08-14T05:55:37.876662Z"
    }
   },
   "cell_type": "code",
   "source": [
    "SRC = '/Users/fathe/OneDrive/Documents/UK/MFF/Thesis/input'\n",
    "folders = [file for file in os.listdir(SRC) if file.startswith(\"H_\")]\n",
    "scans = []\n",
    "for folder in folders:\n",
    "    scans.append(\n",
    "        os.path.join(folder, [file for file in os.listdir(os.path.join(SRC, folder)) if file.endswith(\".stl\")][0]))"
   ],
   "id": "1b5ce8538d16f477",
   "execution_count": 3,
   "outputs": []
  },
  {
   "metadata": {
    "ExecuteTime": {
     "end_time": "2024-08-12T13:51:58.933638Z",
     "start_time": "2024-08-12T13:51:50.285029Z"
    }
   },
   "cell_type": "code",
   "source": [
    "scan_models = []\n",
    "for scan in scans:\n",
    "    scan_models.append(mesh.Mesh.from_file(os.path.join(SRC, scan)))"
   ],
   "id": "45ff9889e6787f75",
   "execution_count": 4,
   "outputs": []
  },
  {
   "metadata": {
    "ExecuteTime": {
     "end_time": "2024-08-12T17:37:12.841007Z",
     "start_time": "2024-08-12T17:34:51.538524Z"
    }
   },
   "cell_type": "code",
   "source": [
    "for scan_model, scan in zip(scan_models, scans):\n",
    "    unrolled_scan = transform3DModel(scan_model)\n",
    "    unrolled_scan.save(os.path.join(SRC, scan).replace('.stl', '_unrolledv6.stl'))\n",
    "    break"
   ],
   "id": "fe9ac0cc7ea9e730",
   "execution_count": 137,
   "outputs": []
  },
  {
   "metadata": {
    "ExecuteTime": {
     "end_time": "2024-08-01T12:31:32.706493Z",
     "start_time": "2024-08-01T12:29:21.609742Z"
    }
   },
   "cell_type": "code",
   "source": "visualizeModel(scan_model)",
   "id": "bebe34993b7e1ac8",
   "execution_count": 5,
   "outputs": []
  },
  {
   "metadata": {
    "ExecuteTime": {
     "end_time": "2024-08-01T11:54:02.426797Z",
     "start_time": "2024-08-01T11:54:01.630591Z"
    }
   },
   "cell_type": "code",
   "source": "getCenter(scan_model)",
   "id": "5e0c782d81742234",
   "execution_count": 36,
   "outputs": []
  },
  {
   "metadata": {
    "ExecuteTime": {
     "end_time": "2024-08-01T13:20:27.014291Z",
     "start_time": "2024-08-01T13:20:26.558441Z"
    }
   },
   "cell_type": "code",
   "source": "getCenterAlt(scan_model, 2, 2, 7)",
   "id": "eb7f901a3d573ce3",
   "execution_count": 62,
   "outputs": []
  },
  {
   "metadata": {
    "ExecuteTime": {
     "end_time": "2024-08-01T13:28:20.005418Z",
     "start_time": "2024-08-01T13:28:19.426743Z"
    }
   },
   "cell_type": "code",
   "source": "getRadius(scan_model)",
   "id": "f75ecf97ef3c933",
   "execution_count": 66,
   "outputs": []
  },
  {
   "metadata": {
    "ExecuteTime": {
     "end_time": "2024-08-01T12:39:09.520400Z",
     "start_time": "2024-08-01T12:39:09.456003Z"
    }
   },
   "cell_type": "code",
   "source": "getXMax(scan_model),getXMin(scan_model)",
   "id": "724890353cad458f",
   "execution_count": 14,
   "outputs": []
  },
  {
   "metadata": {
    "ExecuteTime": {
     "end_time": "2024-08-01T12:39:19.974536Z",
     "start_time": "2024-08-01T12:39:19.907245Z"
    }
   },
   "cell_type": "code",
   "source": "getYMax(scan_model),getYMin(scan_model)",
   "id": "f3e063e5241805a7",
   "execution_count": 15,
   "outputs": []
  },
  {
   "metadata": {
    "ExecuteTime": {
     "end_time": "2024-08-01T12:39:35.379546Z",
     "start_time": "2024-08-01T12:39:35.318204Z"
    }
   },
   "cell_type": "code",
   "source": "getZMax(scan_model),getZMin(scan_model)",
   "id": "47c1f38e7c7813fd",
   "execution_count": 18,
   "outputs": []
  },
  {
   "metadata": {
    "ExecuteTime": {
     "end_time": "2024-08-01T12:40:43.553748Z",
     "start_time": "2024-08-01T12:40:43.515729Z"
    }
   },
   "cell_type": "code",
   "source": "loc = np.argmin(scan_model.vectors[:, :, 2])",
   "id": "a9a8e421adc70436",
   "execution_count": 20,
   "outputs": []
  },
  {
   "metadata": {
    "ExecuteTime": {
     "end_time": "2024-08-01T12:40:58.247294Z",
     "start_time": "2024-08-01T12:40:58.240679Z"
    }
   },
   "cell_type": "code",
   "source": "loc//3",
   "id": "5c790f03c48be947",
   "execution_count": 21,
   "outputs": []
  },
  {
   "metadata": {
    "ExecuteTime": {
     "end_time": "2024-08-01T12:48:47.154251Z",
     "start_time": "2024-08-01T12:48:47.089005Z"
    }
   },
   "cell_type": "code",
   "source": "scan_model.vectors[scan_model.vectors[:, :, 2] > 80]",
   "id": "3d274c88beb553f4",
   "execution_count": 31,
   "outputs": []
  },
  {
   "metadata": {
    "ExecuteTime": {
     "end_time": "2024-08-01T08:17:49.358492Z",
     "start_time": "2024-08-01T08:17:49.351354Z"
    }
   },
   "cell_type": "code",
   "source": "# getXMax(scan_model)",
   "id": "bbe24764c508092a",
   "execution_count": 24,
   "outputs": []
  },
  {
   "metadata": {
    "ExecuteTime": {
     "end_time": "2024-08-01T10:42:08.454282Z",
     "start_time": "2024-08-01T10:42:08.447495Z"
    }
   },
   "cell_type": "code",
   "source": "np.std(scan_model.vectors[0], axis=0)[0]",
   "id": "ab6fbeb98bc52540",
   "execution_count": 46,
   "outputs": []
  },
  {
   "metadata": {
    "ExecuteTime": {
     "end_time": "2024-08-01T11:41:09.915811Z",
     "start_time": "2024-08-01T11:41:06.879282Z"
    }
   },
   "cell_type": "code",
   "source": "coms = getCenters(scan_model)",
   "id": "a6e64fd8739b6cfd",
   "execution_count": 11,
   "outputs": []
  },
  {
   "metadata": {
    "ExecuteTime": {
     "end_time": "2024-08-01T11:44:57.879404Z",
     "start_time": "2024-08-01T11:44:57.875059Z"
    }
   },
   "cell_type": "code",
   "source": "coms[0][2]",
   "id": "11630badd9a49c35",
   "execution_count": 20,
   "outputs": []
  },
  {
   "metadata": {
    "ExecuteTime": {
     "end_time": "2024-08-01T11:48:24.978407Z",
     "start_time": "2024-08-01T11:48:24.968772Z"
    }
   },
   "cell_type": "code",
   "source": "coms[np.where(coms[:, 2] == -0.6549979448318481)][0]",
   "id": "86b8592147ffe29e",
   "execution_count": 30,
   "outputs": []
  },
  {
   "metadata": {
    "ExecuteTime": {
     "end_time": "2024-08-07T09:35:45.052180Z",
     "start_time": "2024-08-07T09:35:44.961126Z"
    }
   },
   "cell_type": "code",
   "source": "np.mean(coms, axis=0), np.std(coms, axis=0)",
   "id": "94a66a6497247a05",
   "execution_count": 26,
   "outputs": []
  },
  {
   "metadata": {
    "ExecuteTime": {
     "end_time": "2024-08-07T09:42:47.454471Z",
     "start_time": "2024-08-07T09:40:24.905013Z"
    }
   },
   "cell_type": "code",
   "source": [
    "scan_model = mesh.Mesh.from_file(os.path.join(SRC, scans[0]))\n",
    "unrolled_scan = transform3DModel(scan_model)\n",
    "unrolled_scan.save(os.path.join(SRC, scans[0]).replace('.stl', '_unrolledv4.stl'))"
   ],
   "id": "374e059056ec5d58",
   "execution_count": 39,
   "outputs": []
  },
  {
   "metadata": {
    "ExecuteTime": {
     "end_time": "2024-08-14T07:11:40.885315Z",
     "start_time": "2024-08-14T07:11:40.550064Z"
    }
   },
   "cell_type": "code",
   "source": "unrolled_scan = mesh.Mesh.from_file(os.path.join(SRC, scans[0]).replace('.stl', '_unrolled.stl'))",
   "id": "135c47b174a7adfc",
   "execution_count": 168,
   "outputs": []
  },
  {
   "metadata": {
    "ExecuteTime": {
     "end_time": "2024-08-14T07:13:01.404411Z",
     "start_time": "2024-08-14T07:13:01.010284Z"
    }
   },
   "cell_type": "code",
   "source": "model_layer = getModelLayer(unrolled_scan, 2, 2, 5)",
   "id": "3e30b8c73484c9f4",
   "execution_count": 203,
   "outputs": []
  },
  {
   "metadata": {
    "ExecuteTime": {
     "end_time": "2024-08-14T07:16:51.265298Z",
     "start_time": "2024-08-14T07:16:51.215440Z"
    }
   },
   "cell_type": "code",
   "source": "view = getView(model_layer, 2)",
   "id": "9ff3816e71e3a0f7",
   "execution_count": 223,
   "outputs": []
  },
  {
   "metadata": {
    "ExecuteTime": {
     "end_time": "2024-08-14T07:16:58.555932Z",
     "start_time": "2024-08-14T07:16:58.452316Z"
    }
   },
   "cell_type": "code",
   "source": [
    "plt.scatter(view[:, 0], view[:, 1], s=1)\n",
    "# plt.axis('equal')\n",
    "plt.show()"
   ],
   "id": "8f1fa6daf3bcacf1",
   "execution_count": 224,
   "outputs": []
  },
  {
   "metadata": {
    "ExecuteTime": {
     "end_time": "2024-08-14T07:16:59.244975Z",
     "start_time": "2024-08-14T07:16:59.233340Z"
    }
   },
   "cell_type": "code",
   "source": "A, B = getLineApprox(view, [-0.001, 0])",
   "id": "86b5bcaba8770d64",
   "execution_count": 225,
   "outputs": []
  },
  {
   "metadata": {
    "ExecuteTime": {
     "end_time": "2024-08-14T07:16:59.424369Z",
     "start_time": "2024-08-14T07:16:59.417996Z"
    }
   },
   "cell_type": "code",
   "source": "A, B",
   "id": "ae40c2dddda44c29",
   "execution_count": 226,
   "outputs": []
  },
  {
   "metadata": {
    "ExecuteTime": {
     "end_time": "2024-08-14T07:17:00.091114Z",
     "start_time": "2024-08-14T07:17:00.028839Z"
    }
   },
   "cell_type": "code",
   "source": [
    "for i, coord in enumerate(view):\n",
    "    view[i, 1] -= line(view[i, 0], A, B)"
   ],
   "id": "2b5eb079a1bb403e",
   "execution_count": 227,
   "outputs": []
  },
  {
   "metadata": {
    "ExecuteTime": {
     "end_time": "2024-08-14T07:17:01.000771Z",
     "start_time": "2024-08-14T07:17:00.879829Z"
    }
   },
   "cell_type": "code",
   "source": [
    "plt.scatter(view[:, 0], view[:, 1], s=1)\n",
    "# plt.axis('equal')\n",
    "plt.show()"
   ],
   "id": "d7fa8579b82a1092",
   "execution_count": 228,
   "outputs": []
  },
  {
   "metadata": {
    "ExecuteTime": {
     "end_time": "2024-08-14T07:18:11.898621Z",
     "start_time": "2024-08-14T07:18:11.855426Z"
    }
   },
   "cell_type": "code",
   "source": "A, B, C, D = getSinusoidApprox(view, [1/10, 1/20, 25, 0])",
   "id": "cb07296fc056e836",
   "execution_count": 229,
   "outputs": []
  },
  {
   "metadata": {
    "ExecuteTime": {
     "end_time": "2024-08-14T07:18:18.837775Z",
     "start_time": "2024-08-14T07:18:18.833116Z"
    }
   },
   "cell_type": "code",
   "source": "A, B, C, D",
   "id": "41b23c78dba37e7f",
   "execution_count": 230,
   "outputs": []
  },
  {
   "metadata": {
    "ExecuteTime": {
     "end_time": "2024-08-14T07:20:49.758717Z",
     "start_time": "2024-08-14T07:20:16.338806Z"
    }
   },
   "cell_type": "code",
   "source": "removeSinusoidErrorY(unrolled_scan, [1/10, 1/20, 25, 0]).save(os.path.join(SRC, scans[0]).replace('.stl', '_unrolled_siny.stl'))",
   "id": "aac37894040373b",
   "execution_count": 232,
   "outputs": []
  },
  {
   "metadata": {
    "ExecuteTime": {
     "end_time": "2024-08-14T07:21:00.466035Z",
     "start_time": "2024-08-14T07:21:00.097116Z"
    }
   },
   "cell_type": "code",
   "source": "unrolled_scan = mesh.Mesh.from_file(os.path.join(SRC, scans[0]).replace('.stl', '_unrolled_siny.stl'))",
   "id": "2fb3cf70dea42802",
   "execution_count": 233,
   "outputs": []
  },
  {
   "metadata": {
    "ExecuteTime": {
     "end_time": "2024-08-14T07:21:22.665283Z",
     "start_time": "2024-08-14T07:21:09.048574Z"
    }
   },
   "cell_type": "code",
   "source": "visualizeModelLayer(unrolled_scan, 2, 14, 22)",
   "id": "4a729fda06aeccca",
   "execution_count": 234,
   "outputs": []
  },
  {
   "metadata": {
    "ExecuteTime": {
     "end_time": "2024-08-14T07:21:30.836177Z",
     "start_time": "2024-08-14T07:21:30.531761Z"
    }
   },
   "cell_type": "code",
   "source": "model_layer = getModelLayer(unrolled_scan, 2, 14, 22)",
   "id": "a158e0768e0b2434",
   "execution_count": 235,
   "outputs": []
  },
  {
   "metadata": {
    "ExecuteTime": {
     "end_time": "2024-08-14T07:21:33.445932Z",
     "start_time": "2024-08-14T07:21:31.751702Z"
    }
   },
   "cell_type": "code",
   "source": "view = getView(model_layer, 2)",
   "id": "c6123eb224c31e7e",
   "execution_count": 236,
   "outputs": []
  },
  {
   "metadata": {
    "ExecuteTime": {
     "end_time": "2024-08-14T07:21:33.456100Z",
     "start_time": "2024-08-14T07:21:33.446939Z"
    }
   },
   "cell_type": "code",
   "source": [
    "data = np.zeros(model_layer.shape[0], dtype=mesh.Mesh.dtype)\n",
    "data['vectors'] = model_layer"
   ],
   "id": "f31f52a65238024",
   "execution_count": 237,
   "outputs": []
  },
  {
   "metadata": {
    "ExecuteTime": {
     "end_time": "2024-08-14T07:21:38.665221Z",
     "start_time": "2024-08-14T07:21:33.749807Z"
    }
   },
   "cell_type": "code",
   "source": "visualizeModelLayer(mesh.Mesh(data), 1, 0, 2)",
   "id": "a617e8e5d71199ba",
   "execution_count": 238,
   "outputs": []
  },
  {
   "metadata": {
    "ExecuteTime": {
     "end_time": "2024-08-14T07:21:45.579703Z",
     "start_time": "2024-08-14T07:21:45.520829Z"
    }
   },
   "cell_type": "code",
   "source": "model_layer = getModelLayer(mesh.Mesh(data), 1, 0, 2)",
   "id": "a8878e2e5df9a5b2",
   "execution_count": 239,
   "outputs": []
  },
  {
   "metadata": {
    "ExecuteTime": {
     "end_time": "2024-08-14T07:21:50.046768Z",
     "start_time": "2024-08-14T07:21:49.404404Z"
    }
   },
   "cell_type": "code",
   "source": "view = getView(model_layer, 1)",
   "id": "7d8c118dae3f2e2c",
   "execution_count": 240,
   "outputs": []
  },
  {
   "metadata": {
    "ExecuteTime": {
     "end_time": "2024-08-14T07:21:50.478991Z",
     "start_time": "2024-08-14T07:21:50.247509Z"
    }
   },
   "cell_type": "code",
   "source": [
    "plt.scatter(view[:, 0], view[:, 1], s=1)\n",
    "# plt.axis('equal')\n",
    "plt.show()"
   ],
   "id": "ba0a3515cc3a620f",
   "execution_count": 241,
   "outputs": []
  },
  {
   "metadata": {
    "ExecuteTime": {
     "end_time": "2024-08-14T07:21:53.515937Z",
     "start_time": "2024-08-14T07:21:53.510667Z"
    }
   },
   "cell_type": "code",
   "source": "view",
   "id": "9e0c854fd03568fd",
   "execution_count": 242,
   "outputs": []
  },
  {
   "metadata": {
    "ExecuteTime": {
     "end_time": "2024-08-14T07:21:56.951549Z",
     "start_time": "2024-08-14T07:21:56.945557Z"
    }
   },
   "cell_type": "code",
   "source": "np.round(view, 2)[0]",
   "id": "9f2ff2102e628e8e",
   "execution_count": 243,
   "outputs": []
  },
  {
   "metadata": {
    "ExecuteTime": {
     "end_time": "2024-08-14T07:22:00.374365Z",
     "start_time": "2024-08-14T07:21:58.588182Z"
    }
   },
   "cell_type": "code",
   "source": [
    "new_view = []\n",
    "for coord in view:\n",
    "    if (coord[0] <= 125 and coord[1] < 20) or (coord[0] > 125 and coord[1] > 17):\n",
    "        new_view.append(coord)\n",
    "view = np.array(new_view)"
   ],
   "id": "267c016cd474b844",
   "execution_count": 244,
   "outputs": []
  },
  {
   "metadata": {
    "ExecuteTime": {
     "end_time": "2024-08-14T07:22:00.541839Z",
     "start_time": "2024-08-14T07:22:00.535081Z"
    }
   },
   "cell_type": "code",
   "source": "view",
   "id": "8c5cdb6d34a1ec9a",
   "execution_count": 245,
   "outputs": []
  },
  {
   "metadata": {
    "ExecuteTime": {
     "end_time": "2024-08-14T07:22:02.094353Z",
     "start_time": "2024-08-14T07:22:01.934141Z"
    }
   },
   "cell_type": "code",
   "source": [
    "plt.scatter(view[:, 0], view[:, 1], s=1)\n",
    "# plt.axis('equal')\n",
    "plt.show()"
   ],
   "id": "6272151c1bca7d41",
   "execution_count": 246,
   "outputs": []
  },
  {
   "metadata": {
    "ExecuteTime": {
     "end_time": "2024-08-14T07:22:10.384544Z",
     "start_time": "2024-08-14T07:22:10.361442Z"
    }
   },
   "cell_type": "code",
   "source": "A, B = getLineApprox(view, [0.1, 18])",
   "id": "29d7eb4db7e9aa20",
   "execution_count": 247,
   "outputs": []
  },
  {
   "metadata": {
    "ExecuteTime": {
     "end_time": "2024-08-14T07:22:11.560638Z",
     "start_time": "2024-08-14T07:22:11.555366Z"
    }
   },
   "cell_type": "code",
   "source": "A,B",
   "id": "e379d01f6ee7f583",
   "execution_count": 248,
   "outputs": []
  },
  {
   "metadata": {
    "ExecuteTime": {
     "end_time": "2024-08-14T07:22:36.677008Z",
     "start_time": "2024-08-14T07:22:36.476611Z"
    }
   },
   "cell_type": "code",
   "source": [
    "for i, coord in enumerate(view):\n",
    "    view[i, 1] -= line(view[i, 0], A, B)"
   ],
   "id": "e9efcfd656eb5cb0",
   "execution_count": 249,
   "outputs": []
  },
  {
   "metadata": {
    "ExecuteTime": {
     "end_time": "2024-08-14T07:22:38.745579Z",
     "start_time": "2024-08-14T07:22:38.685622Z"
    }
   },
   "cell_type": "code",
   "source": "getLineApprox(view, [0, 14])",
   "id": "51d03c0fe35ba60a",
   "execution_count": 250,
   "outputs": []
  },
  {
   "metadata": {
    "ExecuteTime": {
     "end_time": "2024-08-14T07:22:42.048440Z",
     "start_time": "2024-08-14T07:22:41.891056Z"
    }
   },
   "cell_type": "code",
   "source": [
    "plt.scatter(view[:, 0], view[:, 1], s=1)\n",
    "# plt.axis('equal')\n",
    "plt.show()"
   ],
   "id": "41101644c12a1bc",
   "execution_count": 251,
   "outputs": []
  },
  {
   "metadata": {
    "ExecuteTime": {
     "end_time": "2024-08-14T07:22:47.583057Z",
     "start_time": "2024-08-14T07:22:47.578082Z"
    }
   },
   "cell_type": "code",
   "source": "view = np.round(view, 1)",
   "id": "78044f820d440873",
   "execution_count": 252,
   "outputs": []
  },
  {
   "metadata": {
    "ExecuteTime": {
     "end_time": "2024-08-14T07:22:48.336882Z",
     "start_time": "2024-08-14T07:22:48.330959Z"
    }
   },
   "cell_type": "code",
   "source": "view.shape",
   "id": "3c9cdcd434ffdf6d",
   "execution_count": 253,
   "outputs": []
  },
  {
   "metadata": {
    "ExecuteTime": {
     "end_time": "2024-08-14T07:22:48.983382Z",
     "start_time": "2024-08-14T07:22:48.974262Z"
    }
   },
   "cell_type": "code",
   "source": "unique_x = np.unique(view[:, 0])",
   "id": "e9cc6d8b38407263",
   "execution_count": 254,
   "outputs": []
  },
  {
   "metadata": {
    "ExecuteTime": {
     "end_time": "2024-08-14T07:22:50.181153Z",
     "start_time": "2024-08-14T07:22:50.174713Z"
    }
   },
   "cell_type": "code",
   "source": "unique_x.shape",
   "id": "858f5191c41b5b2e",
   "execution_count": 255,
   "outputs": []
  },
  {
   "metadata": {
    "ExecuteTime": {
     "end_time": "2024-08-14T07:22:53.616669Z",
     "start_time": "2024-08-14T07:22:52.341417Z"
    }
   },
   "cell_type": "code",
   "source": [
    "avg_y_for_x = np.array([\n",
    "    [x, np.mean(view[view[:, 0] == x, 1])]\n",
    "    for x in unique_x\n",
    "])"
   ],
   "id": "76270efff3b168d9",
   "execution_count": 256,
   "outputs": []
  },
  {
   "metadata": {
    "ExecuteTime": {
     "end_time": "2024-08-14T07:22:56.504702Z",
     "start_time": "2024-08-14T07:22:56.427064Z"
    }
   },
   "cell_type": "code",
   "source": [
    "plt.scatter(avg_y_for_x[:, 0], avg_y_for_x[:, 1], s=1)\n",
    "# plt.axis('equal')\n",
    "plt.show()"
   ],
   "id": "dff8a9db2a0cbd19",
   "execution_count": 257,
   "outputs": []
  },
  {
   "metadata": {
    "ExecuteTime": {
     "end_time": "2024-08-14T07:23:37.087348Z",
     "start_time": "2024-08-14T07:23:37.075959Z"
    }
   },
   "cell_type": "code",
   "source": "getSinusoidApprox(avg_y_for_x, [0.5, 1/40, 110, 0])",
   "id": "e9676c9c018678bf",
   "execution_count": 260,
   "outputs": []
  },
  {
   "metadata": {
    "ExecuteTime": {
     "end_time": "2024-08-14T07:26:05.158748Z",
     "start_time": "2024-08-14T07:25:31.740140Z"
    }
   },
   "cell_type": "code",
   "source": "removeSinusoidErrorZ(unrolled_scan, [0.5, 1/40, 110, 0]).save(os.path.join(SRC, scans[0]).replace('.stl', '_unrolled_siny_sinz.stl'))",
   "id": "d08c2f67bbbba681",
   "execution_count": 262,
   "outputs": []
  },
  {
   "metadata": {
    "ExecuteTime": {
     "end_time": "2024-08-12T18:03:37.124805Z",
     "start_time": "2024-08-12T18:03:37.116691Z"
    }
   },
   "cell_type": "code",
   "source": "np.sin(1.57)",
   "id": "6d1bb03e27fb7c90",
   "execution_count": 193,
   "outputs": []
  },
  {
   "metadata": {
    "ExecuteTime": {
     "end_time": "2024-08-01T13:05:34.696822Z",
     "start_time": "2024-08-01T13:05:34.357671Z"
    }
   },
   "cell_type": "code",
   "source": [
    "vertices = scan_model.vectors  # shape (n, 3, 3) where n is the number of triangles\n",
    "centroids = np.mean(vertices, axis=1)  # shape (n, 3)\n",
    "mask = (centroids[:, 2] >= 2) & (centroids[:, 2] <= 15)\n",
    "filtered_vertices = vertices[mask]"
   ],
   "id": "723ace093f28e14a",
   "execution_count": 43,
   "outputs": []
  },
  {
   "metadata": {
    "ExecuteTime": {
     "end_time": "2024-08-01T13:05:53.467946Z",
     "start_time": "2024-08-01T13:05:53.462347Z"
    }
   },
   "cell_type": "code",
   "source": "filtered_vertices.shape",
   "id": "9923a10d019e3c50",
   "execution_count": 45,
   "outputs": []
  },
  {
   "metadata": {
    "ExecuteTime": {
     "end_time": "2024-08-01T13:05:53.982270Z",
     "start_time": "2024-08-01T13:05:53.978069Z"
    }
   },
   "cell_type": "code",
   "source": "scan_model.vectors.shape",
   "id": "a8183c41aea8eb4e",
   "execution_count": 46,
   "outputs": []
  },
  {
   "metadata": {
    "ExecuteTime": {
     "end_time": "2024-08-01T13:02:00.952142Z",
     "start_time": "2024-08-01T13:02:00.945800Z"
    }
   },
   "cell_type": "code",
   "source": "scan_model.vectors.shape",
   "id": "95a57c83574fef12",
   "execution_count": 39,
   "outputs": []
  },
  {
   "metadata": {
    "ExecuteTime": {
     "end_time": "2024-08-09T07:03:36.463583Z",
     "start_time": "2024-08-09T07:03:26.338796Z"
    }
   },
   "cell_type": "code",
   "source": "visualizeModelLayer(scan_model, 2, 20, 25)",
   "id": "13034ddb1bb2e8d8",
   "execution_count": 6,
   "outputs": []
  },
  {
   "metadata": {
    "ExecuteTime": {
     "end_time": "2024-08-09T07:04:41.235793Z",
     "start_time": "2024-08-09T07:04:40.861817Z"
    }
   },
   "cell_type": "code",
   "source": "cut_model = getModelLayer(scan_model, 2, 20, 25)",
   "id": "681f7ffb4cf296e7",
   "execution_count": null,
   "outputs": []
  },
  {
   "metadata": {
    "ExecuteTime": {
     "end_time": "2024-08-09T07:08:42.659425Z",
     "start_time": "2024-08-09T07:08:42.650484Z"
    }
   },
   "cell_type": "code",
   "source": "view",
   "id": "3f199bee006daa95",
   "execution_count": 13,
   "outputs": []
  },
  {
   "metadata": {
    "ExecuteTime": {
     "end_time": "2024-08-09T07:13:25.519126Z",
     "start_time": "2024-08-09T07:13:25.501053Z"
    }
   },
   "cell_type": "code",
   "source": "np.where(np.all(cut_model == cut_model[0][0], axis=-1))[0]",
   "id": "2cf557ada59dd9f6",
   "execution_count": 16,
   "outputs": []
  }
 ],
 "metadata": {
  "kernelspec": {
   "display_name": "Python 3",
   "language": "python",
   "name": "python3"
  },
  "language_info": {
   "codemirror_mode": {
    "name": "ipython",
    "version": 2
   },
   "file_extension": ".py",
   "mimetype": "text/x-python",
   "name": "python",
   "nbconvert_exporter": "python",
   "pygments_lexer": "ipython2",
   "version": "2.7.6"
  }
 },
 "nbformat": 4,
 "nbformat_minor": 5
}
